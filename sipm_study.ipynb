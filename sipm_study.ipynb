{
 "cells": [
  {
   "cell_type": "markdown",
   "id": "18d30ae2-279e-4d57-bce2-e5eabafe3a5b",
   "metadata": {},
   "source": [
    "<img src='https://next.ific.uv.es/next/templates/rt_quasar_j15/images/logo/stylenext/logo.png' style='height: 40px' />\n"
   ]
  },
  {
   "cell_type": "markdown",
   "id": "6bf514c7-2551-4f97-8ba6-2802ad275f8b",
   "metadata": {},
   "source": [
    "# SiPM S1 simulation\n",
    "In this widget we simulate the sum of the signals coming from SiPMs coupled to wavelength shifting fibers. The fibers are assumed to uniformly cover the longitudinal side of the barrel."
   ]
  },
  {
   "cell_type": "code",
   "execution_count": 9,
   "id": "e78f4e37-cd88-4037-a57b-ad4831c2118b",
   "metadata": {
    "tags": []
   },
   "outputs": [],
   "source": [
    "import numpy as np\n",
    "import matplotlib.pyplot as plt\n",
    "from math import ceil, exp, pi\n",
    "import ipywidgets as widgets\n",
    "np.random.seed(42)"
   ]
  },
  {
   "cell_type": "code",
   "execution_count": 10,
   "id": "06abb380-7d49-40aa-9374-3f27faae0df7",
   "metadata": {
    "tags": []
   },
   "outputs": [],
   "source": [
    "style = {'description_width': 'initial'}\n",
    "detector_diameter = widgets.FloatSlider(description='Detector diameter [m]',\n",
    "                                        style=style,\n",
    "                                        min=2,\n",
    "                                        max=3,\n",
    "                                        value=2.5)\n",
    "fiber_diameter = widgets.IntSlider(description='Fiber diameter [mm]',\n",
    "                                   style=style,\n",
    "                                   min=1,\n",
    "                                   max=2)\n",
    "\n",
    "sipm_type = widgets.SelectionSlider(\n",
    "    options=['3x3', '6x6', '10x10'],\n",
    "    description='SiPM area [mm$^2$]',\n",
    "    style=style\n",
    ")\n",
    "n_photons = widgets.IntSlider(description='Number of photons',\n",
    "                              style=style,\n",
    "                              min=0,\n",
    "                              value=1000,\n",
    "                              max=5000)\n",
    "efficiency = widgets.FloatSlider(description='Efficiency [%]',\n",
    "                                 style=style,\n",
    "                                 min=0,\n",
    "                                 value=2,\n",
    "                                 max=100)\n",
    "dark_rate = widgets.FloatLogSlider(description='SiPM dark rate [MHz]',\n",
    "                                   value=4,\n",
    "                                   base=10,\n",
    "                                   min=-3,\n",
    "                                   max=2,\n",
    "                                   step=0.2,\n",
    "                                   style=style\n",
    ")\n",
    "\n"
   ]
  },
  {
   "cell_type": "code",
   "execution_count": 11,
   "id": "1875ff08-7158-40ca-97f6-aff10e91d6cc",
   "metadata": {
    "tags": []
   },
   "outputs": [
    {
     "data": {
      "application/vnd.jupyter.widget-view+json": {
       "model_id": "9bbc7c3a2fed4e7789c8cfa259649bbe",
       "version_major": 2,
       "version_minor": 0
      },
      "text/plain": [
       "VBox(children=(SelectionSlider(description='SiPM area [mm$^2$]', options=('3x3', '6x6', '10x10'), style=Slider…"
      ]
     },
     "metadata": {},
     "output_type": "display_data"
    },
    {
     "data": {
      "application/vnd.jupyter.widget-view+json": {
       "model_id": "35934faacb3e409b8fecd30c779e2af9",
       "version_major": 2,
       "version_minor": 0
      },
      "text/plain": [
       "Output()"
      ]
     },
     "metadata": {},
     "output_type": "display_data"
    }
   ],
   "source": [
    "\n",
    "def light_signal(t, t0, f, ts, tt):\n",
    "    if t-t0 > 0:\n",
    "        return f * 1./ts * exp(-(t-t0)/ts) + (1-f) * 1./tt * exp(-(t-t0)/tt)\n",
    "    else:\n",
    "        return 0\n",
    "\n",
    "def xenon_light(t, t0):\n",
    "    f = 0.25\n",
    "    ts = 0.0043\n",
    "    tt = 0.0269\n",
    "    return light_signal(t, t0, f, ts, tt)\n",
    "\n",
    "v_xenon_light = np.vectorize(xenon_light, otypes=[np.float64])\n",
    "\n",
    "def gui(sipm_type, n_photons, fiber_diameter, efficiency, detector_diameter, dark_rate):\n",
    "    if sipm_type == '10x10':\n",
    "        sipm_area = 100\n",
    "    elif sipm_type == '6x6':\n",
    "        sipm_area = 36\n",
    "    else:\n",
    "        sipm_area = 9\n",
    "    \n",
    "    n_pes = n_photons * efficiency / 100\n",
    "    n_fibers = int(ceil(detector_diameter*pi/(fiber_diameter * 1e-3)))\n",
    "    n_sipms = int(ceil(n_fibers/(sipm_area/(fiber_diameter**2))))\n",
    "\n",
    "    sipms = np.zeros((n_sipms,100))\n",
    "    counts = np.random.poisson(dark_rate, n_sipms)\n",
    "    for ic,c in enumerate(counts):\n",
    "        sipms[ic][np.random.randint(100, size=c)] = 1\n",
    "\n",
    "    fig, ax = plt.subplots(1,1,constrained_layout=True)\n",
    "    x = np.linspace(0,1,100)\n",
    "    summed_signals = np.sum(sipms,axis=0)\n",
    "    signal = np.round(n_pes*v_xenon_light(x, 0.5)/x.shape[0])\n",
    "    summed_signals += signal\n",
    "    ax.plot(x,signal, label=f'Signal ({n_pes:.2g} p.e.)', c='r', lw=2, ls='--')\n",
    "    ax.plot(x,summed_signals,label=f\"Signal + dark rate\", lw=2, c='k')\n",
    "\n",
    "    ax.set_xlabel(r\"Time [$\\mathrm{\\mu}$s]\")\n",
    "    ax.set_ylabel(\"Counts\")\n",
    "    ax.legend(loc='upper right')\n",
    "    fig.suptitle('Sum of SiPM S1 signals')\n",
    "\n",
    "out = widgets.interactive_output(gui, {'sipm_type': sipm_type,\n",
    "                                       'n_photons': n_photons, \n",
    "                                       'fiber_diameter': fiber_diameter,\n",
    "                                       'efficiency': efficiency, \n",
    "                                       'detector_diameter': detector_diameter,\n",
    "                                       'dark_rate': dark_rate})\n",
    "ui = widgets.VBox([sipm_type, dark_rate, n_photons, fiber_diameter, efficiency, detector_diameter])\n",
    "display(ui, out)\n",
    "\n"
   ]
  },
  {
   "cell_type": "code",
   "execution_count": null,
   "id": "cda30e5c-8e73-4992-9e60-acbcaeb7190c",
   "metadata": {},
   "outputs": [],
   "source": []
  }
 ],
 "metadata": {
  "kernelspec": {
   "display_name": "Python 3.8.13 ('IC-3.8-2018-11-14')",
   "language": "python",
   "name": "python3"
  },
  "language_info": {
   "codemirror_mode": {
    "name": "ipython",
    "version": 3
   },
   "file_extension": ".py",
   "mimetype": "text/x-python",
   "name": "python",
   "nbconvert_exporter": "python",
   "pygments_lexer": "ipython3",
   "version": "3.8.13"
  },
  "vscode": {
   "interpreter": {
    "hash": "1105d609f8872da12f037025c00fff1ff6884a504b66283951e0b62d0d3c9d04"
   }
  }
 },
 "nbformat": 4,
 "nbformat_minor": 5
}
