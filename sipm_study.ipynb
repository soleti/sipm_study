{
 "cells": [
  {
   "cell_type": "markdown",
   "id": "18d30ae2-279e-4d57-bce2-e5eabafe3a5b",
   "metadata": {},
   "source": [
    "<img src='https://next.ific.uv.es/next/templates/rt_quasar_j15/images/logo/stylenext/logo.png' style='height: 40px' />\n"
   ]
  },
  {
   "cell_type": "markdown",
   "id": "6bf514c7-2551-4f97-8ba6-2802ad275f8b",
   "metadata": {},
   "source": [
    "# SiPM S1 simulation\n",
    "In this widget we simulate the sum of the signals coming from SiPMs coupled to wavelength shifting fibers. The fibers are assumed to uniformly cover the longitudinal side of the barrel. The SiPM dark rate is assumed to [double every 5.3 K](https://hub.hamamatsu.com/us/en/technical-notes/mppc-sipms/what-are-the-effects-of-temperature-on-dark-count-rates-in-an-SiPM-MPPC.html)."
   ]
  },
  {
   "cell_type": "code",
   "execution_count": 1,
   "id": "e78f4e37-cd88-4037-a57b-ad4831c2118b",
   "metadata": {
    "jupyter": {
     "source_hidden": true
    },
    "tags": []
   },
   "outputs": [],
   "source": [
    "import numpy as np\n",
    "import matplotlib.pyplot as plt\n",
    "from math import ceil, exp, pi\n",
    "import ipywidgets as widgets\n",
    "np.random.seed(42)"
   ]
  },
  {
   "cell_type": "code",
   "execution_count": 2,
   "id": "06abb380-7d49-40aa-9374-3f27faae0df7",
   "metadata": {
    "jupyter": {
     "source_hidden": true
    },
    "tags": []
   },
   "outputs": [],
   "source": [
    "style = {'description_width': 'initial'}\n",
    "layout = widgets.Layout(width='400px')\n",
    "detector_diameter = widgets.FloatSlider(description='Detector diameter [m]',\n",
    "                                        style=style,\n",
    "                                        layout=layout,\n",
    "                                        min=2,\n",
    "                                        max=3,\n",
    "                                        value=2.5)\n",
    "\n",
    "fiber_diameter = widgets.IntSlider(description='Fiber diameter [mm]',\n",
    "                                   style=style,\n",
    "                                   layout=layout,\n",
    "                                   min=1,\n",
    "                                   max=2)\n",
    "\n",
    "sipm_type = widgets.Dropdown(options=['1x1', '2x2', '3x3', '6x6', '10x10'],\n",
    "                             value='3x3',\n",
    "                             description=r'SiPM area [mm$^2$]',\n",
    "                             layout=layout,\n",
    "                             style=style)\n",
    "\n",
    "n_photons = widgets.IntSlider(description='Number of photons',\n",
    "                              style=style,\n",
    "                              layout=layout,\n",
    "                              min=0,\n",
    "                              value=1000,\n",
    "                              max=5000)\n",
    "efficiency = widgets.FloatSlider(description='Efficiency [%]',\n",
    "                                 style=style,\n",
    "                                 layout=layout,\n",
    "                                 min=0,\n",
    "                                 value=2,\n",
    "                                 max=100)\n",
    "dark_rate = widgets.FloatLogSlider(description=r'SiPM dark rate at 20 $^{\\circ}$C [MHz]',\n",
    "                                   layout=layout,\n",
    "                                   value=4,\n",
    "                                   base=10,\n",
    "                                   min=-3,\n",
    "                                   max=2,\n",
    "                                   step=0.2,\n",
    "                                   style=style)\n",
    "\n",
    "\n",
    "temperature = widgets.IntSlider(description=r'Temperature [$^{\\circ}$C]',\n",
    "                                style=style,\n",
    "                                layout=layout,\n",
    "                                min=-80,\n",
    "                                value=20,\n",
    "                                max=40)"
   ]
  },
  {
   "cell_type": "code",
   "execution_count": 5,
   "id": "1875ff08-7158-40ca-97f6-aff10e91d6cc",
   "metadata": {
    "tags": []
   },
   "outputs": [
    {
     "data": {
      "application/vnd.jupyter.widget-view+json": {
       "model_id": "fb59bff129b644d7a907f430700622ab",
       "version_major": 2,
       "version_minor": 0
      },
      "text/plain": [
       "VBox(children=(Dropdown(description='SiPM area [mm$^2$]', index=2, layout=Layout(width='400px'), options=('1x1…"
      ]
     },
     "metadata": {},
     "output_type": "display_data"
    },
    {
     "data": {
      "application/vnd.jupyter.widget-view+json": {
       "model_id": "e34a920449c947d0b197dbda8530874a",
       "version_major": 2,
       "version_minor": 0
      },
      "text/plain": [
       "Output()"
      ]
     },
     "metadata": {},
     "output_type": "display_data"
    }
   ],
   "source": [
    "def light_signal(t, t0, f, ts, tt):\n",
    "    if t-t0 > 0:\n",
    "        return f * 1./ts * exp(-(t-t0)/ts) + (1-f) * 1./tt * exp(-(t-t0)/tt)\n",
    "    else:\n",
    "        return 0\n",
    "\n",
    "def xenon_light(t, t0):\n",
    "    f = 0.25\n",
    "    ts = 0.0043\n",
    "    tt = 0.0269\n",
    "    return light_signal(t, t0, f, ts, tt)\n",
    "\n",
    "v_xenon_light = np.vectorize(xenon_light, otypes=[np.float64])\n",
    "\n",
    "def gui(sipm_type, n_photons, fiber_diameter, efficiency, detector_diameter, dark_rate, temperature):\n",
    "    sipm_area = eval(sipm_type.replace('x','*'))\n",
    "    \n",
    "    n_pes = n_photons * efficiency / 100\n",
    "    n_fibers = int(ceil(detector_diameter*pi/(fiber_diameter * 1e-3)))\n",
    "    n_sipms = int(ceil(n_fibers/(sipm_area/(fiber_diameter**2))))\n",
    "\n",
    "    sipms = np.zeros((n_sipms,100))\n",
    "    dark_rate_factor = (temperature-20)/5.3*2\n",
    "    print(dark_rate, dark_rate_factor)\n",
    "    if dark_rate_factor > 0:\n",
    "        dark_rate *= dark_rate_factor\n",
    "    elif dark_rate_factor < 0:\n",
    "        dark_rate /= -dark_rate_factor\n",
    "\n",
    "    counts = np.random.poisson(dark_rate, n_sipms)\n",
    "    for ic,c in enumerate(counts):\n",
    "        sipms[ic][np.random.randint(100, size=c)] = 1\n",
    "\n",
    "    fig, ax = plt.subplots(1,1,constrained_layout=True)\n",
    "    x = np.linspace(0,1,100)\n",
    "    summed_signals = np.sum(sipms,axis=0)\n",
    "    signal = np.round(n_pes*v_xenon_light(x, 0.5)/x.shape[0])\n",
    "    summed_signals += signal\n",
    "    ax.plot(x,signal, label=f'Signal ({n_pes:.2g} p.e.)', c='r', lw=2, ls='--')\n",
    "    ax.plot(x,summed_signals,label=\"Signal + dark rate at %i $^{\\circ}$C (%.2g [MHz])\" % (temperature, dark_rate), lw=2, c='k')\n",
    "\n",
    "    ax.set_xlabel(r\"Time [$\\mathrm{\\mu}$s]\")\n",
    "    ax.set_ylabel(\"Counts\")\n",
    "    ax.set_ylim(top=np.max(summed_signals)*1.2)\n",
    "    ax.legend(loc='upper right')\n",
    "    fig.suptitle(f'Sum of SiPM S1 signals - {n_fibers} fibers, {n_sipms} SiPMs')\n",
    "\n",
    "out = widgets.interactive_output(gui, {'sipm_type': sipm_type,\n",
    "                                       'n_photons': n_photons, \n",
    "                                       'fiber_diameter': fiber_diameter,\n",
    "                                       'efficiency': efficiency, \n",
    "                                       'detector_diameter': detector_diameter,\n",
    "                                       'dark_rate': dark_rate,\n",
    "                                       'temperature': temperature})\n",
    "ui = widgets.VBox([sipm_type, dark_rate, temperature, n_photons, fiber_diameter, efficiency, detector_diameter])\n",
    "display(ui, out)\n",
    "\n"
   ]
  },
  {
   "cell_type": "markdown",
   "id": "959de9aa",
   "metadata": {},
   "source": [
    "<hr>\n",
    "Stefano Roberto Soleti - <a href=\"mailto:roberto.soleti@dipc.org\">roberto.soleti@dipc.org</a>"
   ]
  },
  {
   "cell_type": "markdown",
   "id": "4f9594d1",
   "metadata": {},
   "source": []
  }
 ],
 "metadata": {
  "kernelspec": {
   "display_name": "Python 3 (ipykernel)",
   "language": "python",
   "name": "python3"
  },
  "language_info": {
   "codemirror_mode": {
    "name": "ipython",
    "version": 3
   },
   "file_extension": ".py",
   "mimetype": "text/x-python",
   "name": "python",
   "nbconvert_exporter": "python",
   "pygments_lexer": "ipython3",
   "version": "3.8.13"
  },
  "vscode": {
   "interpreter": {
    "hash": "2d63fdfbca358e1b00291fa76c8ff4878246cc0ce8666e2b60f2a0dd393ee900"
   }
  }
 },
 "nbformat": 4,
 "nbformat_minor": 5
}
