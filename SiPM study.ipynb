{
 "cells": [
  {
   "cell_type": "code",
   "execution_count": 1,
   "id": "e78f4e37-cd88-4037-a57b-ad4831c2118b",
   "metadata": {
    "tags": []
   },
   "outputs": [],
   "source": [
    "import numpy as np\n",
    "import matplotlib.pyplot as plt\n",
    "from math import ceil, exp\n",
    "import ipywidgets as widgets\n",
    "np.random.seed(42)"
   ]
  },
  {
   "cell_type": "code",
   "execution_count": 4,
   "id": "06abb380-7d49-40aa-9374-3f27faae0df7",
   "metadata": {
    "tags": []
   },
   "outputs": [],
   "source": [
    "style = {'description_width': 'initial'}\n",
    "detector_diameter = widgets.FloatSlider(description='Detector diameter [m]',\n",
    "                                      style=style,\n",
    "                                      min=2,\n",
    "                                      max=3,\n",
    "                                      value=2.5)\n",
    "fiber_diameter = widgets.IntSlider(description='Fiber diameter [mm]',\n",
    "                                 style=style,\n",
    "                                 min=1,\n",
    "                                 max=2)\n",
    "\n",
    "sipm_type = widgets.SelectionSlider(\n",
    "    options=['3x3', '6x6', '10x10'],\n",
    "    description='SiPM area [mm$^2$]',\n",
    "    style=style\n",
    ")\n",
    "n_photons = widgets.IntSlider(description='Number of photons',\n",
    "                              style=style,\n",
    "                              min=0,\n",
    "                              value=1000,\n",
    "                              max=5000)\n",
    "efficiency = widgets.FloatSlider(description='Efficiency [%]',\n",
    "                                 style=style,\n",
    "                                 min=0,\n",
    "                                 value=2,\n",
    "                                 max=100)\n",
    "dark_rate = widgets.FloatLogSlider(description='SiPM dark rate [MHz]',\n",
    "                                   value=4,\n",
    "                                   base=10,\n",
    "                                   min=-4, # max exponent of base\n",
    "                                   max=2, # min exponent of base\n",
    "                                   step=0.2, # exponent step\n",
    "                                   style=style\n",
    ")\n",
    "\n"
   ]
  },
  {
   "cell_type": "code",
   "execution_count": 5,
   "id": "1875ff08-7158-40ca-97f6-aff10e91d6cc",
   "metadata": {
    "tags": []
   },
   "outputs": [
    {
     "data": {
      "application/vnd.jupyter.widget-view+json": {
       "model_id": "c8e01c3fbf1d451e94f8a88224b229b6",
       "version_major": 2,
       "version_minor": 0
      },
      "text/plain": [
       "VBox(children=(SelectionSlider(description='SiPM area [mm$^2$]', options=('3x3', '6x6', '10x10'), style=Slider…"
      ]
     },
     "metadata": {},
     "output_type": "display_data"
    },
    {
     "data": {
      "application/vnd.jupyter.widget-view+json": {
       "model_id": "9de1a90b6ad94820b57c9438ea78d973",
       "version_major": 2,
       "version_minor": 0
      },
      "text/plain": [
       "Output()"
      ]
     },
     "metadata": {},
     "output_type": "display_data"
    }
   ],
   "source": [
    "\n",
    "def light_signal(t, t0, f, ts, tt):\n",
    "    if t-t0 > 0:\n",
    "        return f * 1./ts * exp(-(t-t0)/ts) + (1-f) * 1./tt * exp(-(t-t0)/tt)\n",
    "    else:\n",
    "        return 0\n",
    "\n",
    "def xenon_light(t, t0):\n",
    "    f = 0.25\n",
    "    ts = 0.0043\n",
    "    tt = 0.0269\n",
    "    return light_signal(t, t0, f, ts, tt)\n",
    "\n",
    "v_xenon_light = np.vectorize(xenon_light, otypes=[np.float64])\n",
    "\n",
    "def gui(sipm_type, n_photons, fiber_diameter, efficiency, detector_diameter, dark_rate):\n",
    "    if sipm_type == '10x10':\n",
    "        sipm_area = 100\n",
    "    elif sipm_type == '6x6':\n",
    "        sipm_area = 36\n",
    "    else:\n",
    "        sipm_area = 9\n",
    "    \n",
    "    n_pes = n_photons * efficiency / 100\n",
    "    n_fibers = int(np.ceil(detector_diameter*np.pi/(fiber_diameter * 1e-3)))\n",
    "    n_sipms = int(np.ceil(n_fibers/(sipm_area/(fiber_diameter**2))))\n",
    "\n",
    "    #dark_rate = [4, 0.4, 0.04]\n",
    "    sipms_rates = []\n",
    "\n",
    "    #for rate in dark_rate:\n",
    "    sipms = np.zeros((n_sipms,100))\n",
    "    counts = np.random.poisson(dark_rate, n_sipms)\n",
    "    for ic,c in enumerate(counts):\n",
    "        sipms[ic][np.random.randint(100, size=(c))] = 1\n",
    "    sipms_rates.append(sipms)\n",
    "\n",
    "    fig, ax = plt.subplots(1,1,constrained_layout=True)\n",
    "    x=np.linspace(0,1,100)\n",
    "    #for d,rate in zip(dark_rate,sipms_rates):\n",
    "    summed_signals = np.sum(sipms,axis=0)\n",
    "    signal = n_pes*v_xenon_light(x, 0.5)/x.shape[0]\n",
    "    summed_signals += np.round(signal)\n",
    "    ax.plot(x,np.round(signal), label=f'Signal ({n_pes} p.e.)', c='r', lw=2, ls='--')\n",
    "    ax.plot(x,summed_signals,label=f\"Signal + dark rate\", lw=2, c='k')\n",
    "\n",
    "    ax.set_xlabel(r\"Time [$\\mathrm{\\mu}$s]\")\n",
    "    ax.set_ylabel(\"Counts\")\n",
    "    ax.legend(loc='upper right')\n",
    "    fig.suptitle('Sum of SiPM S1 signals')\n",
    "\n",
    "out = widgets.interactive_output(gui, {'sipm_type': sipm_type, \n",
    "                                       'n_photons': n_photons, \n",
    "                                       'fiber_diameter': fiber_diameter,\n",
    "                                       'efficiency': efficiency, \n",
    "                                       'detector_diameter': detector_diameter,\n",
    "                                       'dark_rate': dark_rate})\n",
    "ui = widgets.VBox([sipm_type, dark_rate, n_photons, fiber_diameter, efficiency, detector_diameter])\n",
    "display(ui, out)\n",
    "\n"
   ]
  },
  {
   "cell_type": "code",
   "execution_count": null,
   "id": "cda30e5c-8e73-4992-9e60-acbcaeb7190c",
   "metadata": {},
   "outputs": [],
   "source": []
  }
 ],
 "metadata": {
  "kernelspec": {
   "display_name": "Python 3 (ipykernel)",
   "language": "python",
   "name": "python3"
  },
  "language_info": {
   "codemirror_mode": {
    "name": "ipython",
    "version": 3
   },
   "file_extension": ".py",
   "mimetype": "text/x-python",
   "name": "python",
   "nbconvert_exporter": "python",
   "pygments_lexer": "ipython3",
   "version": "3.8.13"
  }
 },
 "nbformat": 4,
 "nbformat_minor": 5
}
