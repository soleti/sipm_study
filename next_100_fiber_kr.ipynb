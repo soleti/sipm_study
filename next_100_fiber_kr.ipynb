{
 "cells": [
  {
   "cell_type": "markdown",
   "metadata": {},
   "source": [
    "<img src='https://next.ific.uv.es/next/templates/rt_quasar_j15/images/logo/stylenext/logo.png' style='height: 40px' />"
   ]
  },
  {
   "cell_type": "markdown",
   "metadata": {},
   "source": [
    "# Simulation of a fiber barrel for NEXT-100"
   ]
  },
  {
   "cell_type": "markdown",
   "metadata": {},
   "source": [
    "## Kr event"
   ]
  },
  {
   "cell_type": "code",
   "execution_count": 1,
   "metadata": {},
   "outputs": [],
   "source": [
    "import pandas as pd\n",
    "import matplotlib.pyplot as plt\n",
    "import numpy as np\n",
    "import matplotlib as mpl\n",
    "import ipywidgets as widgets"
   ]
  },
  {
   "cell_type": "code",
   "execution_count": 2,
   "metadata": {},
   "outputs": [],
   "source": [
    "mpl.rcParams.update({\n",
    "    \"font.family\": \"serif\",\n",
    "    \"axes.titlesize\": \"xx-large\",\n",
    "    \"axes.labelsize\": \"xx-large\",\n",
    "    \"xtick.labelsize\": \"x-large\",\n",
    "    \"ytick.labelsize\": \"x-large\",\n",
    "    \"legend.fontsize\": \"large\",\n",
    "    \"figure.titlesize\": \"xx-large\",\n",
    "    \"legend.frameon\": False,\n",
    "    \"text.usetex\": True\n",
    "})"
   ]
  },
  {
   "cell_type": "code",
   "execution_count": 3,
   "metadata": {},
   "outputs": [],
   "source": [
    "kr_fibers = pd.read_hdf(\"fiber_kr.h5\", \"MC/sns_response\")\n",
    "kr_sensors = pd.read_hdf(\"fiber_kr.h5\", \"MC/sns_positions\")\n",
    "n_sipms = len(kr_sensors['sensor_id'])"
   ]
  },
  {
   "cell_type": "code",
   "execution_count": 4,
   "metadata": {},
   "outputs": [],
   "source": [
    "event_id = 0\n",
    "wfs_event = kr_fibers.query(f\"event_id=={event_id}\")\n",
    "\n",
    "def gui(temperature, bin_width, dark_rate):\n",
    "    temperature += 273.15\n",
    "    fig, ax = plt.subplots(1, 1)\n",
    "    x_range = (-2000 / 1e3, 4000 / 1e3)  # us\n",
    "    time_window = x_range[1] - x_range[0]\n",
    "    n_bins = int(time_window / bin_width)\n",
    "    dark_rate *= 1e3 / 1e6  # counts per us\n",
    "    temperature_reduction = pow(2, (298 - temperature) / 5.3)\n",
    "    dark_pulses = np.random.uniform(\n",
    "        x_range[0],\n",
    "        x_range[1],\n",
    "        int(dark_rate * time_window * n_sipms / temperature_reduction),\n",
    "    )\n",
    "\n",
    "    kr_times = wfs_event[\"time_bin\"] / 1e3 / 10  # us\n",
    "\n",
    "    n, bins, patches = ax.hist(\n",
    "        kr_times,\n",
    "        range=x_range,\n",
    "        bins=n_bins,\n",
    "        alpha=0.4,\n",
    "        color=\"r\",\n",
    "        lw=2,\n",
    "        label=r\"$^{83m}$Kr\",\n",
    "        ls=\"--\",\n",
    "    )\n",
    "\n",
    "    n_dark, bins, patches = ax.hist(\n",
    "        dark_pulses,\n",
    "        range=x_range,\n",
    "        bins=n_bins,\n",
    "        color=\"k\",\n",
    "        lw=2,\n",
    "        ls=\"--\",\n",
    "        label=r\"Dark pulses\",\n",
    "        alpha=0.4,\n",
    "    )\n",
    "    n, bins, patches = ax.hist(\n",
    "        kr_times,\n",
    "        range=x_range,\n",
    "        bins=n_bins,\n",
    "        bottom=n_dark,\n",
    "        histtype=\"step\",\n",
    "        color=\"k\",\n",
    "        lw=2,\n",
    "    )\n",
    "    ax.set_xlim(x_range[0], x_range[1])\n",
    "    ax.set_xlabel(r\"Time [$\\mathrm{\\mu}s$]\")\n",
    "    ax.set_ylabel(\"Charge [p.e.]\")\n",
    "    ax.set_ylim(0, max(n + n_dark) * 1.3)\n",
    "    ax.set_title(r\"$^{83m}$Kr S1 signal at T=%i K\" % temperature)\n",
    "    ax.legend(fontsize='x-large')"
   ]
  },
  {
   "cell_type": "code",
   "execution_count": 5,
   "metadata": {},
   "outputs": [
    {
     "data": {
      "application/vnd.jupyter.widget-view+json": {
       "model_id": "008846cbcc5a4f4aa9f4226b19e63568",
       "version_major": 2,
       "version_minor": 0
      },
      "text/plain": [
       "VBox(children=(IntSlider(value=25, description='Temperature [$^{\\\\circ}$C]', layout=Layout(width='500px'), max…"
      ]
     },
     "metadata": {},
     "output_type": "display_data"
    },
    {
     "data": {
      "application/vnd.jupyter.widget-view+json": {
       "model_id": "c956f84a16804650ba20e4bce13c364a",
       "version_major": 2,
       "version_minor": 0
      },
      "text/plain": [
       "Output()"
      ]
     },
     "metadata": {},
     "output_type": "display_data"
    }
   ],
   "source": [
    "style = {\"description_width\": \"initial\", \"font-size\": \"x-large\"}\n",
    "layout = widgets.Layout(width=\"500px\", fontsize=\"x-large\")\n",
    "\n",
    "temperature = widgets.IntSlider(\n",
    "    description=\"Temperature [$^{\\circ}$C]\",\n",
    "    style=style,\n",
    "    layout=layout,\n",
    "    min=-40,\n",
    "    max=25,\n",
    "    value=25,\n",
    ")\n",
    "bin_width = widgets.FloatSlider(\n",
    "    description=r\"Time sampling [$\\mu$s]\",\n",
    "    style=style,\n",
    "    layout=layout,\n",
    "    min=0.1,\n",
    "    max=2,\n",
    "    value=1,\n",
    ")\n",
    "\n",
    "dark_rate = widgets.IntSlider(\n",
    "    description=\"Dark rate per sensor [kcps]\",\n",
    "    style=style,\n",
    "    layout=layout,\n",
    "    min=1000,\n",
    "    max=6000,\n",
    "    value=2000,\n",
    "    step=100\n",
    ")\n",
    "\n",
    "out = widgets.interactive_output(\n",
    "    gui,\n",
    "    {\n",
    "        \"temperature\": temperature,\n",
    "        \"bin_width\": bin_width,\n",
    "        \"dark_rate\": dark_rate,\n",
    "    },\n",
    ")\n",
    "\n",
    "ui = widgets.VBox(\n",
    "    [\n",
    "        temperature,\n",
    "        bin_width,\n",
    "        dark_rate\n",
    "    ]\n",
    ")\n",
    "display(ui, out)"
   ]
  },
  {
   "cell_type": "code",
   "execution_count": null,
   "metadata": {},
   "outputs": [],
   "source": []
  }
 ],
 "metadata": {
  "kernelspec": {
   "display_name": "base",
   "language": "python",
   "name": "python3"
  },
  "language_info": {
   "codemirror_mode": {
    "name": "ipython",
    "version": 3
   },
   "file_extension": ".py",
   "mimetype": "text/x-python",
   "name": "python",
   "nbconvert_exporter": "python",
   "pygments_lexer": "ipython3",
   "version": "3.10.6"
  },
  "orig_nbformat": 4
 },
 "nbformat": 4,
 "nbformat_minor": 2
}
